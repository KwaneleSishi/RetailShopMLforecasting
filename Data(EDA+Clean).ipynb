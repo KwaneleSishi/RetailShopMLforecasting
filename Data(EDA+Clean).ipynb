{
 "cells": [
  {
   "cell_type": "markdown",
   "id": "272faf27-63cc-414a-9c4a-fb86c66dabed",
   "metadata": {},
   "source": [
    "Perform Explorative Data Analysis (EDA)\n",
    "The purpose of EDA is to get to know your data better\n",
    "*   Histograms\n",
    "*   Scatterplots\n",
    "  \n",
    " Check for data quality issues and clean\n",
    "- duplicates\n",
    "- nans and nulls\n",
    "- inconsistent types\n",
    "- outliers"
   ]
  },
  {
   "cell_type": "markdown",
   "id": "ccbed574-ca99-4885-9392-504ae2fe38eb",
   "metadata": {},
   "source": [
    "READING IN DATA FROM CSV FILE"
   ]
  },
  {
   "cell_type": "code",
   "execution_count": 6,
   "id": "d008d95c-b1a0-412a-acbf-c429f44cf5fa",
   "metadata": {},
   "outputs": [],
   "source": [
    "# Import packages\n",
    "import plotly.express as px\n",
    "import pandas as pd\n",
    "\n",
    "data = pd.read_csv('C:\\\\Users\\\\HP\\\\Documents\\\\RetailShop\\\\SalesDataTable.csv')\n",
    "data.columns = df.columns.str.replace(' ', '_').str.lower()"
   ]
  },
  {
   "cell_type": "code",
   "execution_count": 7,
   "id": "3abbe5b3-532b-41bd-bc04-33d849e2c72b",
   "metadata": {},
   "outputs": [
    {
     "data": {
      "text/html": [
       "<div>\n",
       "<style scoped>\n",
       "    .dataframe tbody tr th:only-of-type {\n",
       "        vertical-align: middle;\n",
       "    }\n",
       "\n",
       "    .dataframe tbody tr th {\n",
       "        vertical-align: top;\n",
       "    }\n",
       "\n",
       "    .dataframe thead th {\n",
       "        text-align: right;\n",
       "    }\n",
       "</style>\n",
       "<table border=\"1\" class=\"dataframe\">\n",
       "  <thead>\n",
       "    <tr style=\"text-align: right;\">\n",
       "      <th></th>\n",
       "      <th>date</th>\n",
       "      <th>shop_id</th>\n",
       "      <th>product_id</th>\n",
       "      <th>product_name</th>\n",
       "      <th>units_sold</th>\n",
       "      <th>revenue_(zar)</th>\n",
       "      <th>sales_period_(daily/weekly)</th>\n",
       "    </tr>\n",
       "  </thead>\n",
       "  <tbody>\n",
       "    <tr>\n",
       "      <th>0</th>\n",
       "      <td>1/1/2024</td>\n",
       "      <td>SP001</td>\n",
       "      <td>P001</td>\n",
       "      <td>Bread</td>\n",
       "      <td>100</td>\n",
       "      <td>1200.0</td>\n",
       "      <td>Daily</td>\n",
       "    </tr>\n",
       "    <tr>\n",
       "      <th>1</th>\n",
       "      <td>1/2/2024</td>\n",
       "      <td>SP001</td>\n",
       "      <td>P002</td>\n",
       "      <td>Milk</td>\n",
       "      <td>50</td>\n",
       "      <td>500.0</td>\n",
       "      <td>Daily</td>\n",
       "    </tr>\n",
       "    <tr>\n",
       "      <th>2</th>\n",
       "      <td>1/3/2024</td>\n",
       "      <td>SP002</td>\n",
       "      <td>P003</td>\n",
       "      <td>Soap</td>\n",
       "      <td>30</td>\n",
       "      <td>300.0</td>\n",
       "      <td>Daily</td>\n",
       "    </tr>\n",
       "    <tr>\n",
       "      <th>3</th>\n",
       "      <td>1/4/2024</td>\n",
       "      <td>SP001</td>\n",
       "      <td>P004</td>\n",
       "      <td>Sugar</td>\n",
       "      <td>40</td>\n",
       "      <td>400.0</td>\n",
       "      <td>Daily</td>\n",
       "    </tr>\n",
       "    <tr>\n",
       "      <th>4</th>\n",
       "      <td>1/5/2024</td>\n",
       "      <td>SP001</td>\n",
       "      <td>P001</td>\n",
       "      <td>Bread</td>\n",
       "      <td>90</td>\n",
       "      <td>1080.0</td>\n",
       "      <td>Weekly</td>\n",
       "    </tr>\n",
       "  </tbody>\n",
       "</table>\n",
       "</div>"
      ],
      "text/plain": [
       "       date shop_id product_id product_name  units_sold  revenue_(zar)  \\\n",
       "0  1/1/2024   SP001       P001        Bread         100         1200.0   \n",
       "1  1/2/2024   SP001       P002         Milk          50          500.0   \n",
       "2  1/3/2024   SP002       P003         Soap          30          300.0   \n",
       "3  1/4/2024   SP001       P004        Sugar          40          400.0   \n",
       "4  1/5/2024   SP001       P001        Bread          90         1080.0   \n",
       "\n",
       "  sales_period_(daily/weekly)  \n",
       "0                       Daily  \n",
       "1                       Daily  \n",
       "2                       Daily  \n",
       "3                       Daily  \n",
       "4                      Weekly  "
      ]
     },
     "execution_count": 7,
     "metadata": {},
     "output_type": "execute_result"
    }
   ],
   "source": [
    "data.head()"
   ]
  },
  {
   "cell_type": "code",
   "execution_count": 14,
   "id": "5069b46b-90bb-40f9-96e7-42e4ab922283",
   "metadata": {},
   "outputs": [
    {
     "data": {
      "text/plain": [
       "Index(['date', 'shop_id', 'product_id', 'product_name', 'units_sold',\n",
       "       'revenue_(zar)', 'sales_period_(daily/weekly)'],\n",
       "      dtype='object')"
      ]
     },
     "execution_count": 14,
     "metadata": {},
     "output_type": "execute_result"
    }
   ],
   "source": [
    "data.columns\n"
   ]
  },
  {
   "cell_type": "code",
   "execution_count": 8,
   "id": "331979d9-7e07-4cb4-a3c4-4c5aa5bdbf3d",
   "metadata": {},
   "outputs": [
    {
     "name": "stdout",
     "output_type": "stream",
     "text": [
      "<class 'pandas.core.frame.DataFrame'>\n",
      "RangeIndex: 77 entries, 0 to 76\n",
      "Data columns (total 7 columns):\n",
      " #   Column                       Non-Null Count  Dtype  \n",
      "---  ------                       --------------  -----  \n",
      " 0   date                         77 non-null     object \n",
      " 1   shop_id                      77 non-null     object \n",
      " 2   product_id                   77 non-null     object \n",
      " 3   product_name                 77 non-null     object \n",
      " 4   units_sold                   77 non-null     int64  \n",
      " 5   revenue_(zar)                77 non-null     float64\n",
      " 6   sales_period_(daily/weekly)  77 non-null     object \n",
      "dtypes: float64(1), int64(1), object(5)\n",
      "memory usage: 4.3+ KB\n"
     ]
    }
   ],
   "source": [
    "data.info()"
   ]
  },
  {
   "cell_type": "code",
   "execution_count": 9,
   "id": "9f054217-715a-47bd-bc84-f7bda44d48a0",
   "metadata": {},
   "outputs": [
    {
     "data": {
      "text/html": [
       "<div>\n",
       "<style scoped>\n",
       "    .dataframe tbody tr th:only-of-type {\n",
       "        vertical-align: middle;\n",
       "    }\n",
       "\n",
       "    .dataframe tbody tr th {\n",
       "        vertical-align: top;\n",
       "    }\n",
       "\n",
       "    .dataframe thead th {\n",
       "        text-align: right;\n",
       "    }\n",
       "</style>\n",
       "<table border=\"1\" class=\"dataframe\">\n",
       "  <thead>\n",
       "    <tr style=\"text-align: right;\">\n",
       "      <th></th>\n",
       "      <th>units_sold</th>\n",
       "      <th>revenue_(zar)</th>\n",
       "    </tr>\n",
       "  </thead>\n",
       "  <tbody>\n",
       "    <tr>\n",
       "      <th>count</th>\n",
       "      <td>77.000000</td>\n",
       "      <td>77.000000</td>\n",
       "    </tr>\n",
       "    <tr>\n",
       "      <th>mean</th>\n",
       "      <td>28.025974</td>\n",
       "      <td>368.706494</td>\n",
       "    </tr>\n",
       "    <tr>\n",
       "      <th>std</th>\n",
       "      <td>19.309102</td>\n",
       "      <td>240.649305</td>\n",
       "    </tr>\n",
       "    <tr>\n",
       "      <th>min</th>\n",
       "      <td>0.000000</td>\n",
       "      <td>8.000000</td>\n",
       "    </tr>\n",
       "    <tr>\n",
       "      <th>25%</th>\n",
       "      <td>14.000000</td>\n",
       "      <td>183.940000</td>\n",
       "    </tr>\n",
       "    <tr>\n",
       "      <th>50%</th>\n",
       "      <td>27.000000</td>\n",
       "      <td>352.000000</td>\n",
       "    </tr>\n",
       "    <tr>\n",
       "      <th>75%</th>\n",
       "      <td>39.000000</td>\n",
       "      <td>500.000000</td>\n",
       "    </tr>\n",
       "    <tr>\n",
       "      <th>max</th>\n",
       "      <td>100.000000</td>\n",
       "      <td>1200.000000</td>\n",
       "    </tr>\n",
       "  </tbody>\n",
       "</table>\n",
       "</div>"
      ],
      "text/plain": [
       "       units_sold  revenue_(zar)\n",
       "count   77.000000      77.000000\n",
       "mean    28.025974     368.706494\n",
       "std     19.309102     240.649305\n",
       "min      0.000000       8.000000\n",
       "25%     14.000000     183.940000\n",
       "50%     27.000000     352.000000\n",
       "75%     39.000000     500.000000\n",
       "max    100.000000    1200.000000"
      ]
     },
     "execution_count": 9,
     "metadata": {},
     "output_type": "execute_result"
    }
   ],
   "source": [
    "data.describe()"
   ]
  },
  {
   "cell_type": "code",
   "execution_count": 10,
   "id": "65ad407f-6a94-4512-a408-fe61227ceeba",
   "metadata": {},
   "outputs": [
    {
     "data": {
      "text/plain": [
       "date                           0\n",
       "shop_id                        0\n",
       "product_id                     0\n",
       "product_name                   0\n",
       "units_sold                     0\n",
       "revenue_(zar)                  0\n",
       "sales_period_(daily/weekly)    0\n",
       "dtype: int64"
      ]
     },
     "execution_count": 10,
     "metadata": {},
     "output_type": "execute_result"
    }
   ],
   "source": [
    "# Checking for missing values\n",
    "## Checking for NaN\n",
    "data.isnull().values.any()\n",
    "data.isnull().sum()"
   ]
  },
  {
   "cell_type": "code",
   "execution_count": 11,
   "id": "91085321-2453-4878-a369-b3879ae578ed",
   "metadata": {},
   "outputs": [
    {
     "name": "stdout",
     "output_type": "stream",
     "text": [
      "0\n"
     ]
    }
   ],
   "source": [
    "# Check for duplicates\n",
    "duplicates = data.duplicated().sum()\n",
    "print(duplicates)"
   ]
  },
  {
   "cell_type": "code",
   "execution_count": 16,
   "id": "ca5b6cd0-9a13-4777-98c5-757a7f9413fa",
   "metadata": {},
   "outputs": [
    {
     "data": {
      "image/png": "[encoded data removed]",
      "text/plain": [
       "<Figure size 1500x1000 with 2 Axes>"
      ]
     },
     "metadata": {},
     "output_type": "display_data"
    }
   ],
   "source": [
    "import seaborn as sns\n",
    "import matplotlib.pyplot as plt\n",
    "\n",
    "# List of numerical features to visualize\n",
    "numerical_features = ['units_sold', 'revenue_(zar)']\n",
    "\n",
    "# Set the style of the visualizations\n",
    "# sns.set(style=\"whitegrid\")\n",
    "# Create boxplots for numerical features\n",
    "plt.figure(figsize=(15, 10))\n",
    "for i, feature in enumerate(numerical_features, 1):\n",
    "    plt.subplot(3, 3, i)\n",
    "    sns.boxplot(y=data[feature])\n",
    "    plt.title(f'Boxplot of {feature}')\n",
    "    plt.xlabel('')\n",
    "\n",
    "plt.tight_layout()\n",
    "plt.show()"
   ]
  },
  {
   "cell_type": "code",
   "execution_count": 19,
   "id": "d08ef25a-b673-4b71-8c98-c0ee5e005328",
   "metadata": {},
   "outputs": [
    {
     "name": "stdout",
     "output_type": "stream",
     "text": [
      "\n",
      "Outliers (before cleaning):\n",
      "Outliers in units_sold: 2\n",
      "Outliers in revenue_(zar): 1\n"
     ]
    }
   ],
   "source": [
    "import numpy as np\n",
    "# View and handle outliers\n",
    "print(\"\\nOutliers (before cleaning):\")\n",
    "\n",
    "numerical_cols = data.select_dtypes(include=[np.number]).columns\n",
    "data[numerical_cols] = data[numerical_cols].apply(lambda x: x.fillna(x.median()))\n",
    "# Define a function to detect outliers based on the Z-score\n",
    "def detect_outliers(df, columns):\n",
    "    outlier_indices = {}\n",
    "    for col in columns:\n",
    "        mean = df[col].mean()\n",
    "        std = df[col].std()\n",
    "        outliers = df[(df[col] < mean - 3*std) | (df[col] > mean + 3*std)].index\n",
    "        outlier_indices[col] = outliers\n",
    "        print(f\"Outliers in {col}: {len(outliers)}\")\n",
    "    return outlier_indices\n",
    "\n",
    "outliers = detect_outliers(data, numerical_cols)"
   ]
  },
  {
   "cell_type": "code",
   "execution_count": 20,
   "id": "459786ee-9706-4b81-89b1-eae8a74a31d6",
   "metadata": {},
   "outputs": [
    {
     "name": "stdout",
     "output_type": "stream",
     "text": [
      "-------------------------------------------------------\n",
      "Column: units_sold\n",
      "Indices: Index([0, 4], dtype='int64')\n",
      "Valid indices: Index([0, 4], dtype='int64')\n",
      "Removing outliers from units_sold\n",
      "-------------------------------------------------------\n",
      "Column: revenue_(zar)\n",
      "Indices: Index([0], dtype='int64')\n",
      "Valid indices: Index([], dtype='int64')\n",
      "No outliers found in revenue_(zar) (based on existing indices)\n"
     ]
    }
   ],
   "source": [
    "# Remove outliers (if index exists)\n",
    "for col, indices in outliers.items():\n",
    "  print(f\"-------------------------------------------------------\\nColumn: {col}\")\n",
    "  print(f\"Indices: {indices}\")\n",
    "  # Check if any indices are out of range\n",
    "  valid_indices = indices[indices.isin(data.index)]\n",
    "  print(f\"Valid indices: {valid_indices}\")\n",
    "  if len(valid_indices) > 0:\n",
    "    print(f\"Removing outliers from {col}\")\n",
    "    data = data.drop(valid_indices)\n",
    "  else:\n",
    "    print(f\"No outliers found in {col} (based on existing indices)\")\n"
   ]
  },
  {
   "cell_type": "code",
   "execution_count": 21,
   "id": "4c4ff5a0-3443-41ca-af5a-30fc89f124e0",
   "metadata": {},
   "outputs": [
    {
     "data": {
      "image/png": "[encoded data removed]",
      "text/plain": [
       "<Figure size 500x500 with 6 Axes>"
      ]
     },
     "metadata": {},
     "output_type": "display_data"
    }
   ],
   "source": [
    "# Visualize the data\n",
    "sns.pairplot(data)\n",
    "plt.show()"
   ]
  },
  {
   "cell_type": "code",
   "execution_count": 22,
   "id": "a92b30e3-1566-45f6-99ef-1bfe3a71ade8",
   "metadata": {},
   "outputs": [
    {
     "data": {
      "image/png": "[encoded data removed]",
      "text/plain": [
       "<Figure size 640x480 with 1 Axes>"
      ]
     },
     "metadata": {},
     "output_type": "display_data"
    },
    {
     "data": {
      "image/png": "[encoded data removed]",
      "text/plain": [
       "<Figure size 640x480 with 1 Axes>"
      ]
     },
     "metadata": {},
     "output_type": "display_data"
    }
   ],
   "source": [
    "# Analyzing the distribution of each feature using Histogram\n",
    "for col in data.columns:\n",
    "    if data[col].dtype != 'object':  \n",
    "        sns.histplot(data[col])\n",
    "        plt.show()"
   ]
  },
  {
   "cell_type": "code",
   "execution_count": 25,
   "id": "b82ec508-b2de-4a12-b9c7-7c14b527567f",
   "metadata": {},
   "outputs": [],
   "source": [
    "# Saving the cleaned dataset to a new CSV file\n",
    "data.to_csv('C:\\\\Users\\\\HP\\\\Documents\\\\RetailShop\\\\Cleaned_SalesDataSet.csv', index=False)"
   ]
  },
  {
   "cell_type": "code",
   "execution_count": null,
   "id": "85cf799a-a06d-40ec-a80a-61ef56d4dbcd",
   "metadata": {},
   "outputs": [],
   "source": []
  }
 ],
 "metadata": {
  "kernelspec": {
   "display_name": "Python 3 (ipykernel)",
   "language": "python",
   "name": "python3"
  },
  "language_info": {
   "codemirror_mode": {
    "name": "ipython",
    "version": 3
   },
   "file_extension": ".py",
   "mimetype": "text/x-python",
   "name": "python",
   "nbconvert_exporter": "python",
   "pygments_lexer": "ipython3",
   "version": "3.12.2"
  }
 },
 "nbformat": 4,
 "nbformat_minor": 5
}
